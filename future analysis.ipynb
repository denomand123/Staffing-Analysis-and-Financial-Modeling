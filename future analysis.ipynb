{
 "cells": [
  {
   "cell_type": "code",
   "execution_count": 3,
   "id": "06ee9ac6-e355-4c18-a9a1-03dbdc991682",
   "metadata": {},
   "outputs": [],
   "source": [
    "import pandas as pd\n",
    "import numpy as np\n",
    "import matplotlib.pyplot as plt\n",
    "import seaborn as sns\n"
   ]
  },
  {
   "cell_type": "code",
   "execution_count": 4,
   "id": "3de03265-9fba-484a-b1d0-41cc34ad8fda",
   "metadata": {
    "scrolled": true
   },
   "outputs": [],
   "source": [
    "df = pd.read_csv(r\"C:\\Users\\user\\cleaned_recruitment_data.csv\") "
   ]
  },
  {
   "cell_type": "code",
   "execution_count": 10,
   "id": "b025b17d-7d30-4d69-a776-598e358f2758",
   "metadata": {
    "scrolled": true
   },
   "outputs": [
    {
     "data": {
      "text/html": [
       "<div>\n",
       "<style scoped>\n",
       "    .dataframe tbody tr th:only-of-type {\n",
       "        vertical-align: middle;\n",
       "    }\n",
       "\n",
       "    .dataframe tbody tr th {\n",
       "        vertical-align: top;\n",
       "    }\n",
       "\n",
       "    .dataframe thead th {\n",
       "        text-align: right;\n",
       "    }\n",
       "</style>\n",
       "<table border=\"1\" class=\"dataframe\">\n",
       "  <thead>\n",
       "    <tr style=\"text-align: right;\">\n",
       "      <th></th>\n",
       "      <th>name</th>\n",
       "      <th>rating</th>\n",
       "      <th>reviews</th>\n",
       "      <th>company_type</th>\n",
       "      <th>Head_Quarters</th>\n",
       "      <th>Company_Age</th>\n",
       "      <th>No_of_Employee</th>\n",
       "      <th>company description</th>\n",
       "      <th>salaries</th>\n",
       "      <th>job_openings</th>\n",
       "    </tr>\n",
       "  </thead>\n",
       "  <tbody>\n",
       "    <tr>\n",
       "      <th>0</th>\n",
       "      <td>TCS</td>\n",
       "      <td>3.9</td>\n",
       "      <td>(32.5k Reviews)</td>\n",
       "      <td>Public</td>\n",
       "      <td>Mumbai,Maharashtra + 217 more</td>\n",
       "      <td>54 years old</td>\n",
       "      <td>1 Lakh+ employees (India)</td>\n",
       "      <td>IT Services &amp; Consulting | 1 Lakh+ Employees |...</td>\n",
       "      <td>733.7k Salaries</td>\n",
       "      <td>45 Jobs</td>\n",
       "    </tr>\n",
       "    <tr>\n",
       "      <th>1</th>\n",
       "      <td>Accenture</td>\n",
       "      <td>4.0</td>\n",
       "      <td>(22.5k Reviews)</td>\n",
       "      <td>Public</td>\n",
       "      <td>Dublin,Dublin + 125 more</td>\n",
       "      <td>33 years old</td>\n",
       "      <td>1 Lakh+ employees (India)</td>\n",
       "      <td>IT Services &amp; Consulting | 1 Lakh+ Employees |...</td>\n",
       "      <td>513.5k Salaries</td>\n",
       "      <td>13.1k Jobs</td>\n",
       "    </tr>\n",
       "    <tr>\n",
       "      <th>2</th>\n",
       "      <td>Cognizant</td>\n",
       "      <td>3.9</td>\n",
       "      <td>(20.8k Reviews)</td>\n",
       "      <td>Private</td>\n",
       "      <td>Teaneck,New Jersey + 78 more</td>\n",
       "      <td>28 years old</td>\n",
       "      <td>1 Lakh+ employees (India)</td>\n",
       "      <td>IT Services &amp; Consulting | 1 Lakh+ Employees |...</td>\n",
       "      <td>496.7k Salaries</td>\n",
       "      <td>510 Jobs</td>\n",
       "    </tr>\n",
       "    <tr>\n",
       "      <th>3</th>\n",
       "      <td>ICICI Bank</td>\n",
       "      <td>4.0</td>\n",
       "      <td>(27.7k Reviews)</td>\n",
       "      <td>Public</td>\n",
       "      <td>Mumbai,Maharashtra + 925 more</td>\n",
       "      <td>28 years old</td>\n",
       "      <td>50k-1 Lakh employees (India)</td>\n",
       "      <td>Banking | 1 Lakh+ Employees | Public | 29 year...</td>\n",
       "      <td>137.2k Salaries</td>\n",
       "      <td>194 Jobs</td>\n",
       "    </tr>\n",
       "    <tr>\n",
       "      <th>4</th>\n",
       "      <td>HDFC Bank</td>\n",
       "      <td>4.0</td>\n",
       "      <td>(28.4k Reviews)</td>\n",
       "      <td>Public</td>\n",
       "      <td>Mumbai,Maharashtra + 1007 more</td>\n",
       "      <td>28 years old</td>\n",
       "      <td>1 Lakh+ employees (India)</td>\n",
       "      <td>Banking | 1 Lakh+ Employees | Public | 29 year...</td>\n",
       "      <td>125.7k Salaries</td>\n",
       "      <td>403 Jobs</td>\n",
       "    </tr>\n",
       "  </tbody>\n",
       "</table>\n",
       "</div>"
      ],
      "text/plain": [
       "         name  rating          reviews company_type  \\\n",
       "0         TCS     3.9  (32.5k Reviews)       Public   \n",
       "1   Accenture     4.0  (22.5k Reviews)       Public   \n",
       "2   Cognizant     3.9  (20.8k Reviews)      Private   \n",
       "3  ICICI Bank     4.0  (27.7k Reviews)       Public   \n",
       "4   HDFC Bank     4.0  (28.4k Reviews)       Public   \n",
       "\n",
       "                    Head_Quarters   Company_Age                No_of_Employee  \\\n",
       "0   Mumbai,Maharashtra + 217 more  54 years old     1 Lakh+ employees (India)   \n",
       "1        Dublin,Dublin + 125 more  33 years old     1 Lakh+ employees (India)   \n",
       "2    Teaneck,New Jersey + 78 more  28 years old     1 Lakh+ employees (India)   \n",
       "3   Mumbai,Maharashtra + 925 more  28 years old  50k-1 Lakh employees (India)   \n",
       "4  Mumbai,Maharashtra + 1007 more  28 years old     1 Lakh+ employees (India)   \n",
       "\n",
       "                                 company description         salaries  \\\n",
       "0  IT Services & Consulting | 1 Lakh+ Employees |...  733.7k Salaries   \n",
       "1  IT Services & Consulting | 1 Lakh+ Employees |...  513.5k Salaries   \n",
       "2  IT Services & Consulting | 1 Lakh+ Employees |...  496.7k Salaries   \n",
       "3  Banking | 1 Lakh+ Employees | Public | 29 year...  137.2k Salaries   \n",
       "4  Banking | 1 Lakh+ Employees | Public | 29 year...  125.7k Salaries   \n",
       "\n",
       "  job_openings  \n",
       "0      45 Jobs  \n",
       "1   13.1k Jobs  \n",
       "2     510 Jobs  \n",
       "3     194 Jobs  \n",
       "4     403 Jobs  "
      ]
     },
     "execution_count": 10,
     "metadata": {},
     "output_type": "execute_result"
    }
   ],
   "source": [
    "df.head()"
   ]
  },
  {
   "cell_type": "code",
   "execution_count": 8,
   "id": "0e9a56cb-4f14-4a1c-bf01-52200f8787e9",
   "metadata": {},
   "outputs": [],
   "source": [
    "df.rename(columns={'no. of job opening': 'job_openings'}, inplace=True)\n",
    "\n",
    "df_model = df[['Company_Age', 'rating', 'job_openings']].dropna()\n"
   ]
  },
  {
   "cell_type": "code",
   "execution_count": 11,
   "id": "c0c0d404-e088-45a3-a1b9-2bcea91671f5",
   "metadata": {},
   "outputs": [],
   "source": [
    "from sklearn.model_selection import train_test_split\n",
    "from sklearn.preprocessing import LabelEncoder\n",
    "\n",
    "# Select relevant features (Company Age, Rating) and target variable (Job Openings)\n",
    "df_model = df[['Company_Age', 'rating', 'job_openings']].dropna()\n",
    "\n",
    "# Splitting data into features (X) and target (y)\n",
    "X = df_model[['Company_Age', 'rating']]\n",
    "y = df_model['job_openings']\n",
    "\n",
    "# Train-test split (80% training, 20% testing)\n",
    "X_train, X_test, y_train, y_test = train_test_split(X, y, test_size=0.2, random_state=42)\n"
   ]
  },
  {
   "cell_type": "code",
   "execution_count": 13,
   "id": "cf4663e9-cab0-4e24-a099-02aa0df3ae91",
   "metadata": {},
   "outputs": [],
   "source": [
    "df['Company_Age'] = df['Company_Age'].str.extract(r'(\\d+)').astype(float)\n"
   ]
  },
  {
   "cell_type": "code",
   "execution_count": 15,
   "id": "be6155e0-118c-4093-bd51-89bf3367214a",
   "metadata": {},
   "outputs": [
    {
     "name": "stdout",
     "output_type": "stream",
     "text": [
      "float64\n",
      "0    54.0\n",
      "1    33.0\n",
      "2    28.0\n",
      "3    28.0\n",
      "4    28.0\n",
      "Name: Company_Age, dtype: float64\n"
     ]
    }
   ],
   "source": [
    "print(df['Company_Age'].dtype)  # Should be float or int\n",
    "print(df['Company_Age'].head())  # Check first few values\n"
   ]
  },
  {
   "cell_type": "code",
   "execution_count": 16,
   "id": "1e18fcae-0545-4053-b243-217ce7f50bf2",
   "metadata": {},
   "outputs": [
    {
     "name": "stdout",
     "output_type": "stream",
     "text": [
      "[ 54.  33.  28.  77.  55.  41.  36.  25.  29.   4. 111.  44.  27. 177.\n",
      "  16.  26.  84.  39.  31.  10. 146.  20.  15.   1.  22.  18.  80.  47.\n",
      "  34.  70.  35.  23.   6.  74.   9.  11.  12.  13. 157.  24.  30.  43.\n",
      "  38.  21.  42.  45. 136.  40. 115.  73.  67. 135.  14.  64.  53.  91.\n",
      " 119.  37. 116.  90.  78.  nan   5.   8.  32.  49.  92. 172. 113. 152.\n",
      "  86.  46.  76.  17.  50. 138. 118.  79.  63.  58.  97.  68.  48.  99.\n",
      "  95.  75.  72. 158.  51. 130.  71.  19.  61.  82.  93. 357.  52. 176.\n",
      " 201. 104. 194.  81.  65. 185.   7. 144.  87. 332.  88. 114.  98. 103.\n",
      "  83. 159. 501.  60. 210. 169.  69. 100.  57. 125. 141. 160. 156.   3.\n",
      "  94.  66. 124. 163.  56.  85. 134.  62. 174. 220. 149. 165. 102. 166.\n",
      " 106. 264. 123. 132.  89.  59. 184. 126. 143. 107. 120. 105. 189. 108.\n",
      " 175. 183. 234. 162. 188. 198. 151.  96. 168. 131. 155. 181. 140. 258.\n",
      " 112. 139. 109. 147. 150. 133. 205. 101. 110. 262. 257. 354. 117. 218.\n",
      " 129. 122. 286.   2. 278. 171. 192. 170. 202. 230. 121.]\n"
     ]
    }
   ],
   "source": [
    "print(df['Company_Age'].unique())\n"
   ]
  },
  {
   "cell_type": "code",
   "execution_count": null,
   "id": "a4a33f9e-4b58-4ac5-ba8c-0d4fa918c5db",
   "metadata": {},
   "outputs": [
    {
     "name": "stdout",
     "output_type": "stream",
     "text": [
      "Mean Absolute Error: 25.83\n",
      "Mean Squared Error: 3096.14\n",
      "R² Score: 0.00\n"
     ]
    }
   ],
   "source": [
    "import pandas as pd\n",
    "import numpy as np\n",
    "from sklearn.model_selection import train_test_split\n",
    "from sklearn.linear_model import LinearRegression\n",
    "from sklearn.metrics import mean_absolute_error, mean_squared_error, r2_score\n",
    "\n",
    "\n",
    "df.rename(columns={'job_openings': 'Job_Openings', 'rating': 'Rating', 'company_age': 'Company_Age'}, inplace=True)\n",
    "\n",
    "\n",
    "df['Company_Age'] = pd.to_numeric(df['Company_Age'], errors='coerce')\n",
    "\n",
    "\n",
    "df['Job_Openings'] = df['Job_Openings'].astype(str).str.replace(\" Jobs\", \"\", regex=False)\n",
    "df['Job_Openings'] = df['Job_Openings'].replace('--', np.nan)  # Replace '--' with NaN\n",
    "df['Job_Openings'] = df['Job_Openings'].str.replace('k', '000', regex=False)  # Convert 'k' to '000'\n",
    "df['Job_Openings'] = pd.to_numeric(df['Job_Openings'], errors='coerce')\n",
    "\n",
    "\n",
    "df['Rating'] = pd.to_numeric(df['Rating'], errors='coerce')\n",
    "\n",
    "\n",
    "numeric_cols = ['Company_Age', 'Rating', 'Job_Openings']\n",
    "df[numeric_cols] = df[numeric_cols].fillna(df[numeric_cols].median())\n",
    "\n",
    "\n",
    "df_model = df[numeric_cols].dropna()\n",
    "X = df_model[['Company_Age', 'Rating']]\n",
    "y = df_model['Job_Openings']\n",
    "\n",
    "\n",
    "X_train, X_test, y_train, y_test = train_test_split(X, y, test_size=0.2, random_state=42)\n",
    "\n",
    "\n",
    "model = LinearRegression()\n",
    "model.fit(X_train, y_train)\n",
    "\n",
    "\n",
    "y_pred = model.predict(X_test)\n",
    "\n",
    "\n",
    "mae = mean_absolute_error(y_test, y_pred)\n",
    "mse = mean_squared_error(y_test, y_pred)\n",
    "r2 = r2_score(y_test, y_pred)\n",
    "\n",
    "\n",
    "print(f'Mean Absolute Error: {mae:.2f}')\n",
    "print(f'Mean Squared Error: {mse:.2f}')\n",
    "print(f'R² Score: {r2:.2f}')\n",
    "\n"
   ]
  },
  {
   "cell_type": "code",
   "execution_count": null,
   "id": "c37098c8-4566-4265-bcfb-850895a79add",
   "metadata": {},
   "outputs": [
    {
     "name": "stdout",
     "output_type": "stream",
     "text": [
      "                Rating  Company_Age  Job_Openings\n",
      "Rating        1.000000     0.017325     -0.028282\n",
      "Company_Age   0.017325     1.000000     -0.050337\n",
      "Job_Openings -0.028282    -0.050337      1.000000\n"
     ]
    }
   ],
   "source": [
    "df_numeric = df.select_dtypes(include=['number'])  \n",
    "print(df_numeric.corr())  \n",
    "\n"
   ]
  },
  {
   "cell_type": "code",
   "execution_count": null,
   "id": "43579ae6-7183-4a40-ac76-e592adc80067",
   "metadata": {},
   "outputs": [],
   "source": []
  }
 ],
 "metadata": {
  "kernelspec": {
   "display_name": "Python 3 (ipykernel)",
   "language": "python",
   "name": "python3"
  },
  "language_info": {
   "codemirror_mode": {
    "name": "ipython",
    "version": 3
   },
   "file_extension": ".py",
   "mimetype": "text/x-python",
   "name": "python",
   "nbconvert_exporter": "python",
   "pygments_lexer": "ipython3",
   "version": "3.12.3"
  }
 },
 "nbformat": 4,
 "nbformat_minor": 5
}
