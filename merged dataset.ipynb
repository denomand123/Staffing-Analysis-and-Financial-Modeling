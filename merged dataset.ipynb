{
 "cells": [
  {
   "cell_type": "code",
   "execution_count": 6,
   "id": "8c45c55d-0f38-4440-aa7b-bf013350f37b",
   "metadata": {},
   "outputs": [
    {
     "name": "stdout",
     "output_type": "stream",
     "text": [
      "   Unnamed: 0_x       name  rating_x          reviews company_type  \\\n",
      "0             0        TCS       3.9  (32.5k Reviews)       Public   \n",
      "1             0        TCS       3.9  (32.5k Reviews)       Public   \n",
      "2             0        TCS       3.9  (32.5k Reviews)       Public   \n",
      "3             1  Accenture       4.0  (22.5k Reviews)       Public   \n",
      "4             1  Accenture       4.0  (22.5k Reviews)       Public   \n",
      "\n",
      "                   Head_Quarters   Company_Age             No_of_Employee  \\\n",
      "0  Mumbai,Maharashtra + 217 more  54 years old  1 Lakh+ employees (India)   \n",
      "1  Mumbai,Maharashtra + 217 more  54 years old  1 Lakh+ employees (India)   \n",
      "2  Mumbai,Maharashtra + 217 more  54 years old  1 Lakh+ employees (India)   \n",
      "3       Dublin,Dublin + 125 more  33 years old  1 Lakh+ employees (India)   \n",
      "4       Dublin,Dublin + 125 more  33 years old  1 Lakh+ employees (India)   \n",
      "\n",
      "   Unnamed: 0_y                                company description  rating_y  \\\n",
      "0             0  IT Services & Consulting | 1 Lakh+ Employees |...       3.8   \n",
      "1           200  IT Services & Consulting | 1 Lakh+ Employees |...       3.8   \n",
      "2           400  IT Services & Consulting | 1 Lakh+ Employees |...       3.8   \n",
      "3             1  IT Services & Consulting | 1 Lakh+ Employees |...       4.1   \n",
      "4           201  IT Services & Consulting | 1 Lakh+ Employees |...       4.1   \n",
      "\n",
      "          review         salaries no. of job opening  \n",
      "0  63.1k Reviews  733.7k Salaries            45 Jobs  \n",
      "1  63.1k Reviews  733.7k Salaries            45 Jobs  \n",
      "2  63.1k Reviews  733.7k Salaries            45 Jobs  \n",
      "3  40.3k Reviews  513.5k Salaries         13.1k Jobs  \n",
      "4  40.3k Reviews  513.5k Salaries         13.1k Jobs  \n"
     ]
    }
   ],
   "source": [
    "import pandas as pd\n",
    "\n",
    "# Load datasets\n",
    "df1 = pd.read_csv(r\"C:\\Users\\user\\Downloads\\archive (7)\\recruitment.csv\")  # First dataset\n",
    "df2 = pd.read_csv(r\"C:\\Users\\user\\Downloads\\archive (8)\\final.csv\")  # Second dataset\n",
    "\n",
    "# Merge on 'name' column\n",
    "merged_df = pd.merge(df1, df2, on=\"name\", how=\"inner\")  # Use 'outer' if you want all records\n",
    "\n",
    "# Display merged dataset\n",
    "print(merged_df.head())\n",
    "\n",
    "# Save the merged file\n",
    "merged_df.to_csv(\"merged_dataset.csv\", index=False)\n"
   ]
  },
  {
   "cell_type": "code",
   "execution_count": 8,
   "id": "1521d433-a630-4696-8aad-c77792ca3d84",
   "metadata": {},
   "outputs": [
    {
     "name": "stdout",
     "output_type": "stream",
     "text": [
      "          name  rating          reviews company_type  \\\n",
      "0          TCS     3.9  (32.5k Reviews)       Public   \n",
      "3    Accenture     4.0  (22.5k Reviews)       Public   \n",
      "6    Cognizant     3.9  (20.8k Reviews)      Private   \n",
      "9   ICICI Bank     4.0  (27.7k Reviews)       Public   \n",
      "12   HDFC Bank     4.0  (28.4k Reviews)       Public   \n",
      "\n",
      "                     Head_Quarters   Company_Age  \\\n",
      "0    Mumbai,Maharashtra + 217 more  54 years old   \n",
      "3         Dublin,Dublin + 125 more  33 years old   \n",
      "6     Teaneck,New Jersey + 78 more  28 years old   \n",
      "9    Mumbai,Maharashtra + 925 more  28 years old   \n",
      "12  Mumbai,Maharashtra + 1007 more  28 years old   \n",
      "\n",
      "                  No_of_Employee  \\\n",
      "0      1 Lakh+ employees (India)   \n",
      "3      1 Lakh+ employees (India)   \n",
      "6      1 Lakh+ employees (India)   \n",
      "9   50k-1 Lakh employees (India)   \n",
      "12     1 Lakh+ employees (India)   \n",
      "\n",
      "                                  company description         salaries  \\\n",
      "0   IT Services & Consulting | 1 Lakh+ Employees |...  733.7k Salaries   \n",
      "3   IT Services & Consulting | 1 Lakh+ Employees |...  513.5k Salaries   \n",
      "6   IT Services & Consulting | 1 Lakh+ Employees |...  496.7k Salaries   \n",
      "9   Banking | 1 Lakh+ Employees | Public | 29 year...  137.2k Salaries   \n",
      "12  Banking | 1 Lakh+ Employees | Public | 29 year...  125.7k Salaries   \n",
      "\n",
      "   no. of job opening  \n",
      "0             45 Jobs  \n",
      "3          13.1k Jobs  \n",
      "6            510 Jobs  \n",
      "9            194 Jobs  \n",
      "12           403 Jobs  \n"
     ]
    }
   ],
   "source": [
    "import pandas as pd\n",
    "\n",
    "# Load merged dataset\n",
    "df = pd.read_csv(r\"C:\\Users\\user\\Downloads\\merged_dataset.csv\")  # Change to your actual path\n",
    "\n",
    "# Drop unnecessary columns\n",
    "df = df.drop(columns=[\"Unnamed: 0_x\", \"Unnamed: 0_y\", \"review\", \"rating_y\"])\n",
    "\n",
    "# Rename rating_x to rating\n",
    "df = df.rename(columns={\"rating_x\": \"rating\"})\n",
    "\n",
    "# Drop duplicate rows (optional)\n",
    "df = df.drop_duplicates()\n",
    "\n",
    "# Save cleaned dataset (optional)\n",
    "df.to_csv(\"cleaned_recruitment_data.csv\", index=False)\n",
    "\n",
    "# Display cleaned dataset\n",
    "print(df.head())\n"
   ]
  },
  {
   "cell_type": "code",
   "execution_count": null,
   "id": "63f7afcf-e689-4d62-a5ad-a76538ae5ce0",
   "metadata": {},
   "outputs": [],
   "source": []
  }
 ],
 "metadata": {
  "kernelspec": {
   "display_name": "Python 3 (ipykernel)",
   "language": "python",
   "name": "python3"
  },
  "language_info": {
   "codemirror_mode": {
    "name": "ipython",
    "version": 3
   },
   "file_extension": ".py",
   "mimetype": "text/x-python",
   "name": "python",
   "nbconvert_exporter": "python",
   "pygments_lexer": "ipython3",
   "version": "3.12.3"
  }
 },
 "nbformat": 4,
 "nbformat_minor": 5
}
